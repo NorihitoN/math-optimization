{
 "cells": [
  {
   "cell_type": "markdown",
   "metadata": {},
   "source": [
    "### 固有値問題"
   ]
  },
  {
   "cell_type": "code",
   "execution_count": 2,
   "metadata": {
    "vscode": {
     "languageId": "rust"
    }
   },
   "outputs": [],
   "source": [
    ":dep nalgebra"
   ]
  },
  {
   "cell_type": "code",
   "execution_count": 3,
   "metadata": {
    "vscode": {
     "languageId": "rust"
    }
   },
   "outputs": [
    {
     "name": "stdout",
     "output_type": "stream",
     "text": [
      "Eigenvalues: VecStorage { data: [2.000000000000001, 0.5000000000000002, 0.5], nrows: Dyn(3), ncols: Const }\n",
      "Eigenvectors: VecStorage { data: [0.5773502691896257, 0.5773502691896257, 0.5773502691896258, -0.816496580927726, 0.40824829046386296, 0.4082482904638631, 0.0, 0.7071067811865477, -0.7071067811865475], nrows: Dyn(3), ncols: Dyn(3) }\n"
     ]
    }
   ],
   "source": [
    "extern crate nalgebra as na;\n",
    "\n",
    "use na::{DMatrix, SymmetricEigen};\n",
    "\n",
    "let a = DMatrix::from_row_slice(3,3, &[\n",
    "    1.0, 0.5, 0.5,\n",
    "    0.5, 1.0, 0.5,\n",
    "    0.5, 0.5, 1.0,\n",
    "]);\n",
    "\n",
    "let eigen = SymmetricEigen::new(a);\n",
    "\n",
    "println!(\"Eigenvalues: {:?}\", eigen.eigenvalues);\n",
    "println!(\"Eigenvectors: {:?}\", eigen.eigenvectors);"
   ]
  },
  {
   "cell_type": "markdown",
   "metadata": {
    "vscode": {
     "languageId": "rust"
    }
   },
   "source": [
    "### 勾配法"
   ]
  },
  {
   "cell_type": "markdown",
   "metadata": {},
   "source": []
  }
 ],
 "metadata": {
  "kernelspec": {
   "display_name": "Rust",
   "language": "rust",
   "name": "rust"
  },
  "language_info": {
   "codemirror_mode": "rust",
   "file_extension": ".rs",
   "mimetype": "text/rust",
   "name": "Rust",
   "pygment_lexer": "rust",
   "version": ""
  }
 },
 "nbformat": 4,
 "nbformat_minor": 2
}
