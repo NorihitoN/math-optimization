{
 "cells": [
  {
   "cell_type": "markdown",
   "metadata": {},
   "source": [
    "### 固有値問題"
   ]
  },
  {
   "cell_type": "code",
   "execution_count": 2,
   "metadata": {
    "vscode": {
     "languageId": "rust"
    }
   },
   "outputs": [],
   "source": [
    ":dep nalgebra"
   ]
  },
  {
   "cell_type": "code",
   "execution_count": 8,
   "metadata": {
    "vscode": {
     "languageId": "rust"
    }
   },
   "outputs": [
    {
     "name": "stdout",
     "output_type": "stream",
     "text": [
      "Eigenvalues: VecStorage { data: [2.000000000000001, 0.5000000000000002, 0.5], nrows: Dyn(3), ncols: Const }\n",
      "Eigenvectors: VecStorage { data: [0.5773502691896257, 0.5773502691896257, 0.5773502691896258, -0.816496580927726, 0.40824829046386296, 0.4082482904638631, 0.0, 0.7071067811865477, -0.7071067811865475], nrows: Dyn(3), ncols: Dyn(3) }\n"
     ]
    }
   ],
   "source": [
    "extern crate nalgebra as na;\n",
    "\n",
    "use na::{DMatrix, SymmetricEigen};\n",
    "\n",
    "let a = DMatrix::from_row_slice(3,3, &[\n",
    "    1.0, 0.5, 0.5,\n",
    "    0.5, 1.0, 0.5,\n",
    "    0.5, 0.5, 1.0,\n",
    "]);\n",
    "\n",
    "let eigen = SymmetricEigen::new(a);\n",
    "\n",
    "println!(\"Eigenvalues: {:?}\", eigen.eigenvalues);\n",
    "println!(\"Eigenvectors: {:?}\", eigen.eigenvectors);"
   ]
  },
  {
   "cell_type": "markdown",
   "metadata": {
    "vscode": {
     "languageId": "rust"
    }
   },
   "source": [
    "### 勾配法"
   ]
  },
  {
   "cell_type": "code",
   "execution_count": 2,
   "metadata": {
    "vscode": {
     "languageId": "rust"
    }
   },
   "outputs": [
    {
     "name": "stdout",
     "output_type": "stream",
     "text": [
      "Maximum of f(x) = (x - 2)^2 is at x = 2.0000001525878894\n"
     ]
    },
    {
     "data": {
      "text/plain": [
       "()"
      ]
     },
     "execution_count": 2,
     "metadata": {},
     "output_type": "execute_result"
    }
   ],
   "source": [
    "// 1次元勾配法(Gradient Descent in 1D)\n",
    "\n",
    "{\n",
    "    struct Search {\n",
    "        func: Box<dyn Fn(f64) -> f64>,\n",
    "    }\n",
    "\n",
    "    impl Search {\n",
    "        fn new(func: Box<dyn Fn(f64) -> f64>) -> Self {\n",
    "            Self { func }\n",
    "        }\n",
    "\n",
    "        fn diff_func(&self, x: f64) -> f64 {\n",
    "            let h = 1e-6;\n",
    "            ((self.func)(x + h) - (self.func)(x - h)) / (2.0 * h)\n",
    "        }\n",
    "\n",
    "        fn search_max(&self, t0: f64, h0: f64, epsilon: f64) -> f64 {\n",
    "            let mut t = t0;\n",
    "            let mut h = h0;\n",
    "\n",
    "            while self.diff_func(t).abs() > epsilon {\n",
    "                h = self.diff_func(t).signum() * h.abs();\n",
    "                t = t + h;\n",
    "                if (self.func)(t) > (self.func)(t - h) {\n",
    "                    while (self.func)(t) >= (self.func)(t - h) {\n",
    "                        h = 2.0 * h;\n",
    "                        t = t + h;\n",
    "                    }\n",
    "                    t = t - h;\n",
    "                    h = h / 2.0;\n",
    "                } else {\n",
    "                    while (self.func)(t) <= (self.func)(t - h) {\n",
    "                        h = h / 2.0;\n",
    "                        t = t - h;\n",
    "                    }\n",
    "                    t = t + h;\n",
    "                    h = h / 2.0;\n",
    "                }\n",
    "            }\n",
    "            t\n",
    "        }\n",
    "    }\n",
    "\n",
    "    let f_grad_1d = Box::new(|x: f64| - 2.0 * (x - 2.0).powi(2));\n",
    "    let search = Search::new(f_grad_1d);\n",
    "    let x_max_1d = search.search_max(0.0, 0.01, 1e-6);\n",
    "    println!(\"Maximum of f(x) = (x - 2)^2 is at x = {}\", x_max_1d);\n",
    "}"
   ]
  }
 ],
 "metadata": {
  "kernelspec": {
   "display_name": "Rust",
   "language": "rust",
   "name": "rust"
  },
  "language_info": {
   "codemirror_mode": "rust",
   "file_extension": ".rs",
   "mimetype": "text/rust",
   "name": "Rust",
   "pygment_lexer": "rust",
   "version": ""
  }
 },
 "nbformat": 4,
 "nbformat_minor": 2
}
