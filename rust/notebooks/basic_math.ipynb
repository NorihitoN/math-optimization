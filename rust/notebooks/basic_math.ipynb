{
 "cells": [
  {
   "cell_type": "markdown",
   "metadata": {},
   "source": [
    "### 固有値問題"
   ]
  },
  {
   "cell_type": "code",
   "execution_count": 2,
   "metadata": {
    "vscode": {
     "languageId": "rust"
    }
   },
   "outputs": [],
   "source": [
    ":dep nalgebra"
   ]
  },
  {
   "cell_type": "code",
   "execution_count": 3,
   "metadata": {
    "vscode": {
     "languageId": "rust"
    }
   },
   "outputs": [
    {
     "name": "stdout",
     "output_type": "stream",
     "text": [
      "Eigenvalues: VecStorage { data: [2.000000000000001, 0.5000000000000002, 0.5], nrows: Dyn(3), ncols: Const }\n",
      "Eigenvectors: VecStorage { data: [0.5773502691896257, 0.5773502691896257, 0.5773502691896258, -0.816496580927726, 0.40824829046386296, 0.4082482904638631, 0.0, 0.7071067811865477, -0.7071067811865475], nrows: Dyn(3), ncols: Dyn(3) }\n"
     ]
    }
   ],
   "source": [
    "extern crate nalgebra as na;\n",
    "\n",
    "use na::{DMatrix, SymmetricEigen};\n",
    "\n",
    "let a = DMatrix::from_row_slice(3,3, &[\n",
    "    1.0, 0.5, 0.5,\n",
    "    0.5, 1.0, 0.5,\n",
    "    0.5, 0.5, 1.0,\n",
    "]);\n",
    "\n",
    "let eigen = SymmetricEigen::new(a);\n",
    "\n",
    "println!(\"Eigenvalues: {:?}\", eigen.eigenvalues);\n",
    "println!(\"Eigenvectors: {:?}\", eigen.eigenvectors);"
   ]
  },
  {
   "cell_type": "markdown",
   "metadata": {
    "vscode": {
     "languageId": "rust"
    }
   },
   "source": [
    "### 勾配法"
   ]
  },
  {
   "cell_type": "code",
   "execution_count": null,
   "metadata": {
    "vscode": {
     "languageId": "rust"
    }
   },
   "outputs": [
    {
     "ename": "Error",
     "evalue": "use of moved value: `self.func`",
     "output_type": "error",
     "traceback": [
      "                let line_search_func = Box::new(move |t: f64| {",
      "\u001b[91m                                                ^^^^^^^^^^^^^\u001b[0m \u001b[94mvalue moved into closure here, in previous iteration of loop\u001b[0m",
      "                    (self.func)(new_x, new_y)",
      "\u001b[91m                    ^^^^^^^^^^^\u001b[0m \u001b[94muse occurs due to use in closure\u001b[0m",
      "use of moved value: `self.func`"
     ]
    }
   ],
   "source": [
    "// 1次元勾配法(Gradient Descent in 1D)\n",
    "\n",
    "{\n",
    "    struct Search {\n",
    "        func: Box<dyn Fn(f64) -> f64>,\n",
    "    }\n",
    "\n",
    "    impl Search {\n",
    "        fn new(func: Box<dyn Fn(f64) -> f64>) -> Self {\n",
    "            Self { func }\n",
    "        }\n",
    "\n",
    "        fn diff_func(&self, x: f64) -> f64 {\n",
    "            let h = 1e-6;\n",
    "            ((self.func)(x + h) - (self.func)(x - h)) / (2.0 * h)\n",
    "        }\n",
    "\n",
    "        fn search_max(&self, t0: f64, h0: f64, epsilon: f64) -> f64 {\n",
    "            let mut t = t0;\n",
    "            let mut h = h0;\n",
    "\n",
    "            while self.diff_func(t).abs() > epsilon {\n",
    "                h = self.diff_func(t).signum() * h.abs();\n",
    "                t = t + h;\n",
    "                if (self.func)(t) > (self.func)(t - h) {\n",
    "                    while (self.func)(t) >= (self.func)(t - h) {\n",
    "                        h = 2.0 * h;\n",
    "                        t = t + h;\n",
    "                    }\n",
    "                    t = t - h;\n",
    "                    h = h / 2.0;\n",
    "                } else {\n",
    "                    while (self.func)(t) <= (self.func)(t - h) {\n",
    "                        h = h / 2.0;\n",
    "                        t = t - h;\n",
    "                    }\n",
    "                    t = t + h;\n",
    "                    h = h / 2.0;\n",
    "                }\n",
    "            }\n",
    "            t\n",
    "        }\n",
    "    }\n",
    "\n",
    "    // 2次元勾配法(Gradient Descent in 2D)\n",
    "    struct HillClimb {\n",
    "        func: Box<dyn Fn(f64, f64) -> f64>,\n",
    "    }\n",
    "\n",
    "    impl HillClimb {\n",
    "        fn new(func: Box<dyn Fn(f64, f64) -> f64>) -> Self {\n",
    "            Self { func }\n",
    "        }\n",
    "\n",
    "        fn diff_x_func(&self, x: f64, y: f64) -> f64 {\n",
    "            let h = 1e-6;\n",
    "            ((self.func)(x + h, y) - (self.func)(x - h, y)) / (2.0 * h)\n",
    "        }\n",
    "\n",
    "        fn diff_y_func(&self, x: f64, y: f64) -> f64 {\n",
    "            let h = 1e-6;\n",
    "            ((self.func)(x, y + h) - (self.func)(x, y - h)) / (2.0 * h)\n",
    "        }\n",
    "\n",
    "        fn hill_climb(self, x0: f64, y0: f64, sigma: f64) -> (f64, f64) {\n",
    "            let mut x = x0;\n",
    "            let mut y = y0;\n",
    "\n",
    "            loop {\n",
    "                let current_x = x;\n",
    "                let current_y = y;\n",
    "                let dx = self.diff_x_func(current_x, current_y);\n",
    "                let dy = self.diff_y_func(current_x, current_y);\n",
    "\n",
    "                let line_search_func = Box::new(move |t: f64| {\n",
    "                    let new_x = current_x + t * dx;\n",
    "                    let new_y = current_y + t * dy;\n",
    "                    (self.func)(new_x, new_y)\n",
    "                });\n",
    "\n",
    "                let search = Search::new(line_search_func);\n",
    "                let t_max = search.search_max(0.1, 0.1, 1e-6);\n",
    "\n",
    "                x = x + t_max * dx;\n",
    "                y = y + t_max * dy;\n",
    "\n",
    "                if t_max.abs() < sigma {\n",
    "                    break;\n",
    "                }\n",
    "            }\n",
    "            (x, y)\n",
    "        }\n",
    "    }\n",
    "\n",
    "    let f_1d = Box::new(|x: f64| - 2.0 * (x - 2.0).powi(2));\n",
    "    let search = Search::new(f_1d);\n",
    "    let x_max_1d = search.search_max(0.0, 0.01, 1e-6);\n",
    "    println!(\"Maximum of f(x) = (x - 2)^2 is at x = {}\", x_max_1d);\n",
    "\n",
    "    let f_2d = Box::new(|x: f64, y: f64| - 5.0 * (x - 1.0).powi(2) - 2.0 * (y - 2.0).powi(2) + 3.0);\n",
    "    let hill_climb = HillClimb::new(f_2d);\n",
    "    let (x_max_2d, y_max_2d) = hill_climb.hill_climb(0.0, 0.0, 1e-6);\n",
    "    println!(\"Maximum of f(x, y) = -5(x - 1)^2 - 2(y - 2)^2 is at x = {}, y = {}\", x_max_2d, y_max_2d);\n",
    "}"
   ]
  },
  {
   "cell_type": "markdown",
   "metadata": {},
   "source": []
  }
 ],
 "metadata": {
  "kernelspec": {
   "display_name": "Rust",
   "language": "rust",
   "name": "rust"
  },
  "language_info": {
   "codemirror_mode": "rust",
   "file_extension": ".rs",
   "mimetype": "text/rust",
   "name": "Rust",
   "pygment_lexer": "rust",
   "version": ""
  }
 },
 "nbformat": 4,
 "nbformat_minor": 2
}
